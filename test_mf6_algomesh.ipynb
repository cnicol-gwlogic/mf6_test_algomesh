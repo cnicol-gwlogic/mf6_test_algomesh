{
 "cells": [
  {
   "cell_type": "code",
   "execution_count": 26,
   "metadata": {},
   "outputs": [],
   "source": [
    "import os\n",
    "from shapely.geometry import Polygon\n",
    "import geopandas as gpd\n",
    "\n",
    "from IPython.core.interactiveshell import InteractiveShell\n",
    "InteractiveShell.ast_node_interactivity = \"all\""
   ]
  },
  {
   "cell_type": "markdown",
   "metadata": {},
   "source": [
    "### make simple small square domain for algomesh"
   ]
  },
  {
   "cell_type": "code",
   "execution_count": 31,
   "metadata": {},
   "outputs": [
    {
     "data": {
      "text/plain": [
       "[0.0, 10.0, 20.0, 30, 30.0, 30.0, 30.0, 20.0, 10.0, 0.0, 0.0, 0.0, 0.0]"
      ]
     },
     "execution_count": 31,
     "metadata": {},
     "output_type": "execute_result"
    },
    {
     "data": {
      "text/plain": [
       "[0.0, 0.0, 0.0, 0.0, 10.0, 20.0, 30.0, 30.0, 30.0, 30.0, 20.0, 10.0, 0.0]"
      ]
     },
     "execution_count": 31,
     "metadata": {},
     "output_type": "execute_result"
    },
    {
     "data": {
      "text/plain": [
       "<AxesSubplot:>"
      ]
     },
     "execution_count": 31,
     "metadata": {},
     "output_type": "execute_result"
    },
    {
     "data": {
      "image/png": "[encoded data removed]",
      "text/plain": [
       "<Figure size 432x288 with 1 Axes>"
      ]
     },
     "metadata": {
      "needs_background": "light"
     },
     "output_type": "display_data"
    }
   ],
   "source": [
    "x,y = [],[]\n",
    "y += [0.]*4\n",
    "x += [0.,10.,20.,30]\n",
    "x += [30.]*3\n",
    "y += [10.,20.,30.]\n",
    "y += [30.]*3\n",
    "x += [20.,10.,0.]\n",
    "y += [20.,10.,0.]\n",
    "x += [0.]*3\n",
    "x\n",
    "y\n",
    "    \n",
    "poly = Polygon(zip(x, y))\n",
    "poly = gpd.GeoDataFrame(index=[0], geometry=[poly])  \n",
    "poly.plot()\n",
    "#poly.to_file(\"test_mf6_algomesh_domain.shp\")"
   ]
  },
  {
   "cell_type": "code",
   "execution_count": 28,
   "metadata": {},
   "outputs": [
    {
     "data": {
      "text/plain": [
       "[0.0, 15.0, 30, 30.0, 30.0, 15.0, 0.0, 0.0, 0.0]"
      ]
     },
     "execution_count": 28,
     "metadata": {},
     "output_type": "execute_result"
    },
    {
     "data": {
      "text/plain": [
       "[0.0, 0.0, 0.0, 15.0, 30.0, 30.0, 30.0, 15.0, 0.0]"
      ]
     },
     "execution_count": 28,
     "metadata": {},
     "output_type": "execute_result"
    },
    {
     "data": {
      "text/plain": [
       "<AxesSubplot:>"
      ]
     },
     "execution_count": 28,
     "metadata": {},
     "output_type": "execute_result"
    },
    {
     "data": {
      "text/plain": [
       "<AxesSubplot:>"
      ]
     },
     "execution_count": 28,
     "metadata": {},
     "output_type": "execute_result"
    },
    {
     "data": {
      "image/png": "[encoded data removed]",
      "text/plain": [
       "<Figure size 432x288 with 1 Axes>"
      ]
     },
     "metadata": {
      "needs_background": "light"
     },
     "output_type": "display_data"
    },
    {
     "data": {
      "image/png": "[encoded data removed]",
      "text/plain": [
       "<Figure size 432x288 with 1 Axes>"
      ]
     },
     "metadata": {
      "needs_background": "light"
     },
     "output_type": "display_data"
    }
   ],
   "source": [
    "x,y = [],[]\n",
    "y += [0.]*3\n",
    "x += [0.,15.,30]\n",
    "x += [30.]*2\n",
    "y += [15.,30.]\n",
    "y += [30.]*2\n",
    "x += [15.,0.]\n",
    "y += [15.,0.]\n",
    "x += [0.]*2\n",
    "x\n",
    "y\n",
    "    \n",
    "poly = Polygon(zip(x, y))\n",
    "poly = gpd.GeoDataFrame(index=[0], geometry=[poly])  \n",
    "poly.plot()\n",
    "poly.to_file(\"test_mf6_algomesh_domain.shp\")\n",
    "\n",
    "pts = gpd.points_from_xy(x, y)\n",
    "pts = gpd.GeoDataFrame(index=list(range(len(x))), geometry=pts)\n",
    "pts.plot()\n"
   ]
  },
  {
   "cell_type": "code",
   "execution_count": 29,
   "metadata": {},
   "outputs": [
    {
     "data": {
      "text/plain": [
       "[0.0, 30.0, 30.0, 30.0, 0.0, 0.0, 0.0]"
      ]
     },
     "execution_count": 29,
     "metadata": {},
     "output_type": "execute_result"
    },
    {
     "data": {
      "text/plain": [
       "[0.0, 0.0, 15.0, 30.0, 30.0, 15.0, 0.0]"
      ]
     },
     "execution_count": 29,
     "metadata": {},
     "output_type": "execute_result"
    },
    {
     "data": {
      "text/plain": [
       "<AxesSubplot:>"
      ]
     },
     "execution_count": 29,
     "metadata": {},
     "output_type": "execute_result"
    },
    {
     "data": {
      "text/plain": [
       "<AxesSubplot:>"
      ]
     },
     "execution_count": 29,
     "metadata": {},
     "output_type": "execute_result"
    },
    {
     "data": {
      "image/png": "[encoded data removed]",
      "text/plain": [
       "<Figure size 432x288 with 1 Axes>"
      ]
     },
     "metadata": {
      "needs_background": "light"
     },
     "output_type": "display_data"
    },
    {
     "data": {
      "image/png": "[encoded data removed]",
      "text/plain": [
       "<Figure size 432x288 with 1 Axes>"
      ]
     },
     "metadata": {
      "needs_background": "light"
     },
     "output_type": "display_data"
    }
   ],
   "source": [
    "x,y = [],[]\n",
    "y += [0.]*2\n",
    "x += [0.,30.]\n",
    "x += [30.]*2\n",
    "y += [15.,30.]\n",
    "y += [30.]\n",
    "x += [0.]\n",
    "y += [15.,0.]\n",
    "x += [0.]*2\n",
    "x\n",
    "y\n",
    "    \n",
    "poly = Polygon(zip(x, y))\n",
    "poly = gpd.GeoDataFrame(index=[0], geometry=[poly])  \n",
    "poly.plot()\n",
    "poly.to_file(\"test_mf6_algomesh_domain.shp\")\n",
    "\n",
    "pts = gpd.points_from_xy(x, y)\n",
    "pts = gpd.GeoDataFrame(index=list(range(len(x))), geometry=pts)\n",
    "pts.plot()\n"
   ]
  },
  {
   "cell_type": "code",
   "execution_count": 32,
   "metadata": {},
   "outputs": [
    {
     "data": {
      "text/plain": [
       "[0.0, 30.0, 30.0, 0.0, 0.0]"
      ]
     },
     "execution_count": 32,
     "metadata": {},
     "output_type": "execute_result"
    },
    {
     "data": {
      "text/plain": [
       "[0.0, 0.0, 30.0, 30.0, 0.0]"
      ]
     },
     "execution_count": 32,
     "metadata": {},
     "output_type": "execute_result"
    },
    {
     "data": {
      "text/plain": [
       "<AxesSubplot:>"
      ]
     },
     "execution_count": 32,
     "metadata": {},
     "output_type": "execute_result"
    },
    {
     "data": {
      "text/plain": [
       "<AxesSubplot:>"
      ]
     },
     "execution_count": 32,
     "metadata": {},
     "output_type": "execute_result"
    },
    {
     "data": {
      "image/png": "[encoded data removed]",
      "text/plain": [
       "<Figure size 432x288 with 1 Axes>"
      ]
     },
     "metadata": {
      "needs_background": "light"
     },
     "output_type": "display_data"
    },
    {
     "data": {
      "image/png": "[encoded data removed]",
      "text/plain": [
       "<Figure size 432x288 with 1 Axes>"
      ]
     },
     "metadata": {
      "needs_background": "light"
     },
     "output_type": "display_data"
    }
   ],
   "source": [
    "# this poly bombs algomesh\n",
    "\n",
    "x,y = [],[]\n",
    "y += [0.]*2\n",
    "x += [0.,30.]\n",
    "x += [30.]\n",
    "y += [30.]\n",
    "y += [30.]\n",
    "x += [0.]\n",
    "y += [0.]\n",
    "x += [0.]\n",
    "x\n",
    "y\n",
    "    \n",
    "poly = Polygon(zip(x, y))\n",
    "poly = gpd.GeoDataFrame(index=[0], geometry=[poly])  \n",
    "poly.plot()\n",
    "poly.to_file(\"test_mf6_algomesh_domain.shp\")\n",
    "\n",
    "pts = gpd.points_from_xy(x, y)\n",
    "pts = gpd.GeoDataFrame(index=list(range(len(x))), geometry=pts)\n",
    "pts.plot()\n"
   ]
  },
  {
   "cell_type": "markdown",
   "metadata": {},
   "source": [
    "### this is the final poly I used to build with"
   ]
  },
  {
   "cell_type": "code",
   "execution_count": 34,
   "metadata": {},
   "outputs": [
    {
     "data": {
      "text/plain": [
       "[0.0, 30.0, 30.0, 30.0, 0.0, 0.0]"
      ]
     },
     "execution_count": 34,
     "metadata": {},
     "output_type": "execute_result"
    },
    {
     "data": {
      "text/plain": [
       "[0.0, 0.0, 15.0, 30.0, 30.0, 0.0]"
      ]
     },
     "execution_count": 34,
     "metadata": {},
     "output_type": "execute_result"
    },
    {
     "data": {
      "text/plain": [
       "<AxesSubplot:>"
      ]
     },
     "execution_count": 34,
     "metadata": {},
     "output_type": "execute_result"
    },
    {
     "data": {
      "text/plain": [
       "<AxesSubplot:>"
      ]
     },
     "execution_count": 34,
     "metadata": {},
     "output_type": "execute_result"
    },
    {
     "data": {
      "image/png": "[encoded data removed]",
      "text/plain": [
       "<Figure size 432x288 with 1 Axes>"
      ]
     },
     "metadata": {
      "needs_background": "light"
     },
     "output_type": "display_data"
    },
    {
     "data": {
      "image/png": "[encoded data removed]",
      "text/plain": [
       "<Figure size 432x288 with 1 Axes>"
      ]
     },
     "metadata": {
      "needs_background": "light"
     },
     "output_type": "display_data"
    }
   ],
   "source": [
    "x,y = [],[]\n",
    "y += [0.]*2\n",
    "x += [0.,30.]\n",
    "x += [30.]*2\n",
    "y += [15.,30.]\n",
    "y += [30.]\n",
    "x += [0.]\n",
    "y += [0.]\n",
    "x += [0.]\n",
    "x\n",
    "y\n",
    "    \n",
    "poly = Polygon(zip(x, y))\n",
    "poly = gpd.GeoDataFrame(index=[0], geometry=[poly])\n",
    "poly[\"top\"] = 10.\n",
    "poly[\"bot\"] = 0.\n",
    "poly[\"kh\"] = 1.\n",
    "poly[\"kv\"] = .1\n",
    "poly.plot()\n",
    "poly.to_file(\"test_mf6_algomesh_domain.shp\")\n",
    "\n",
    "pts = gpd.points_from_xy(x, y)\n",
    "pts = gpd.GeoDataFrame(index=list(range(len(x))), geometry=pts)\n",
    "pts.plot()\n"
   ]
  }
 ],
 "metadata": {
  "kernelspec": {
   "display_name": "Python 3",
   "language": "python",
   "name": "python3"
  },
  "language_info": {
   "codemirror_mode": {
    "name": "ipython",
    "version": 3
   },
   "file_extension": ".py",
   "mimetype": "text/x-python",
   "name": "python",
   "nbconvert_exporter": "python",
   "pygments_lexer": "ipython3",
   "version": "3.9.6"
  }
 },
 "nbformat": 4,
 "nbformat_minor": 4
}
